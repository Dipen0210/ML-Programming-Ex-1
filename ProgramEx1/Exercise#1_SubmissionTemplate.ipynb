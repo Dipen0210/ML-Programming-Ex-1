{
  "cells": [
    {
      "cell_type": "markdown",
      "metadata": {
        "id": "DAO8AZsc266y"
      },
      "source": [
        "# Dipen Prajapati\n",
        "# Programming Exercise \\#1\n",
        "---"
      ]
    },
    {
      "cell_type": "markdown",
      "metadata": {
        "id": "rJOtXeNg38_u"
      },
      "source": [
        "# Preamble"
      ]
    },
    {
      "cell_type": "code",
      "execution_count": 709,
      "metadata": {
        "id": "Ldu0WSDK4IjA"
      },
      "outputs": [
        {
          "name": "stderr",
          "output_type": "stream",
          "text": [
            "<>:4: SyntaxWarning: invalid escape sequence '\\ '\n",
            "<>:4: SyntaxWarning: invalid escape sequence '\\ '\n",
            "C:\\Users\\Dipen\\AppData\\Local\\Temp\\ipykernel_7844\\3731214257.py:4: SyntaxWarning: invalid escape sequence '\\ '\n",
            "  '''\n"
          ]
        },
        {
          "data": {
            "text/plain": [
              "\"\\n# mount Google Drive in Google Colab\\nfrom google.colab import drive\\ndrive.mount('/content/drive')\\n\\n# change directory using the magic command %cd\\n### replace [MY PATH] below with your own path in Google Drive ###\\n### %cd /content/drive/My\\\\ Drive/[MY PATH] ###\\n\\n\\n\""
            ]
          },
          "execution_count": 709,
          "metadata": {},
          "output_type": "execute_result"
        }
      ],
      "source": [
        "# optional code cell when using Google Colab with Google Drive\n",
        "\n",
        "# remove the docstring comment block below in order to mount Google Drive\n",
        "'''\n",
        "# mount Google Drive in Google Colab\n",
        "from google.colab import drive\n",
        "drive.mount('/content/drive')\n",
        "\n",
        "# change directory using the magic command %cd\n",
        "### replace [MY PATH] below with your own path in Google Drive ###\n",
        "### %cd /content/drive/My\\ Drive/[MY PATH] ###\n",
        "\n",
        "\n",
        "'''\n"
      ]
    },
    {
      "cell_type": "code",
      "execution_count": 710,
      "metadata": {
        "id": "rjUKWdVD_Eqh"
      },
      "outputs": [],
      "source": [
        "# import relevant Python libraries\n",
        "\n",
        "### Your import commands go here ###\n",
        "\n",
        "import numpy as np\n",
        "import pandas as pd\n",
        "import matplotlib.pyplot as plt\n",
        "from scipy import stats as sps\n",
        "from IPython.display import display, Latex\n",
        "\n"
      ]
    },
    {
      "cell_type": "markdown",
      "metadata": {
        "id": "PeHo02TLz-hL"
      },
      "source": [
        "# **1. Fetal Health Classification Dataset**"
      ]
    },
    {
      "cell_type": "markdown",
      "metadata": {
        "id": "wnzH3Rd2vu-l"
      },
      "source": [
        "## **Clean Dataset**"
      ]
    },
    {
      "cell_type": "markdown",
      "metadata": {
        "id": "qmMHJttez-hM"
      },
      "source": [
        "### Problem 1.1"
      ]
    },
    {
      "cell_type": "code",
      "execution_count": 711,
      "metadata": {
        "id": "IgKSHxewsRdP"
      },
      "outputs": [],
      "source": [
        "# load the clean dataset csv file into a pandas dataframe\n",
        "\n",
        "fetal_df = pd.read_csv('fetal_health_dataset_clean.csv')"
      ]
    },
    {
      "cell_type": "markdown",
      "metadata": {
        "id": "EKQZRr9Dz-hN"
      },
      "source": [
        "#### (a)"
      ]
    },
    {
      "cell_type": "markdown",
      "metadata": {
        "id": "9eH6uWf4z-hN"
      },
      "source": [
        "_[Your answer for 1.1(a) goes here]_"
      ]
    },
    {
      "cell_type": "markdown",
      "metadata": {},
      "source": [
        "This is a Supervised learning. It has labeled dataset in terms of independent and dependent variables."
      ]
    },
    {
      "cell_type": "markdown",
      "metadata": {
        "id": "77c-6U-_z-hO"
      },
      "source": [
        "#### (b)"
      ]
    },
    {
      "cell_type": "code",
      "execution_count": 712,
      "metadata": {
        "id": "530SUQVjz-hP"
      },
      "outputs": [
        {
          "name": "stdout",
          "output_type": "stream",
          "text": [
            "[RangeIndex(start=0, stop=2126, step=1), Index(['baseline value', 'accelerations', 'fetal_movement',\n",
            "       'uterine_contractions', 'light_decelerations', 'severe_decelerations',\n",
            "       'prolongued_decelerations', 'abnormal_short_term_variability',\n",
            "       'mean_value_of_short_term_variability',\n",
            "       'percentage_of_time_with_abnormal_long_term_variability',\n",
            "       'mean_value_of_long_term_variability', 'histogram_width',\n",
            "       'histogram_min', 'histogram_max', 'histogram_number_of_peaks',\n",
            "       'histogram_number_of_zeroes', 'histogram_mode', 'histogram_mean',\n",
            "       'histogram_median', 'histogram_variance', 'histogram_tendency',\n",
            "       'fetal_health'],\n",
            "      dtype='object')]\n",
            "baseline value                                              int64\n",
            "accelerations                                             float64\n",
            "fetal_movement                                            float64\n",
            "uterine_contractions                                      float64\n",
            "light_decelerations                                       float64\n",
            "severe_decelerations                                      float64\n",
            "prolongued_decelerations                                  float64\n",
            "abnormal_short_term_variability                             int64\n",
            "mean_value_of_short_term_variability                      float64\n",
            "percentage_of_time_with_abnormal_long_term_variability      int64\n",
            "mean_value_of_long_term_variability                       float64\n",
            "histogram_width                                             int64\n",
            "histogram_min                                               int64\n",
            "histogram_max                                               int64\n",
            "histogram_number_of_peaks                                   int64\n",
            "histogram_number_of_zeroes                                  int64\n",
            "histogram_mode                                              int64\n",
            "histogram_mean                                              int64\n",
            "histogram_median                                            int64\n",
            "histogram_variance                                          int64\n",
            "histogram_tendency                                          int64\n",
            "fetal_health                                                int64\n",
            "dtype: object\n"
          ]
        }
      ],
      "source": [
        "### Your code for 1.1(b) goes here ###\n",
        "print(fetal_df.axes)\n",
        "print(fetal_df.dtypes)"
      ]
    },
    {
      "cell_type": "markdown",
      "metadata": {
        "id": "_tMu1LVSz-hQ"
      },
      "source": [
        "#### (c)\n",
        "\n"
      ]
    },
    {
      "cell_type": "code",
      "execution_count": 713,
      "metadata": {
        "id": "1D7twXbHz-hR"
      },
      "outputs": [
        {
          "name": "stdout",
          "output_type": "stream",
          "text": [
            "   baseline value  accelerations  fetal_movement  uterine_contractions  \\\n",
            "0             120          0.000             0.0                 0.000   \n",
            "1             132          0.006             0.0                 0.006   \n",
            "2             133          0.003             0.0                 0.008   \n",
            "3             134          0.003             0.0                 0.008   \n",
            "4             132          0.007             0.0                 0.008   \n",
            "5             134          0.001             0.0                 0.010   \n",
            "6             134          0.001             0.0                 0.013   \n",
            "7             122          0.000             0.0                 0.000   \n",
            "8             122          0.000             0.0                 0.002   \n",
            "9             122          0.000             0.0                 0.003   \n",
            "\n",
            "   light_decelerations  severe_decelerations  prolongued_decelerations  \\\n",
            "0                0.000                   0.0                     0.000   \n",
            "1                0.003                   0.0                     0.000   \n",
            "2                0.003                   0.0                     0.000   \n",
            "3                0.003                   0.0                     0.000   \n",
            "4                0.000                   0.0                     0.000   \n",
            "5                0.009                   0.0                     0.002   \n",
            "6                0.008                   0.0                     0.003   \n",
            "7                0.000                   0.0                     0.000   \n",
            "8                0.000                   0.0                     0.000   \n",
            "9                0.000                   0.0                     0.000   \n",
            "\n",
            "   abnormal_short_term_variability  mean_value_of_short_term_variability  \\\n",
            "0                               73                                   0.5   \n",
            "1                               17                                   2.1   \n",
            "2                               16                                   2.1   \n",
            "3                               16                                   2.4   \n",
            "4                               16                                   2.4   \n",
            "5                               26                                   5.9   \n",
            "6                               29                                   6.3   \n",
            "7                               83                                   0.5   \n",
            "8                               84                                   0.5   \n",
            "9                               86                                   0.3   \n",
            "\n",
            "   percentage_of_time_with_abnormal_long_term_variability  ...  histogram_min  \\\n",
            "0                                                 43       ...             62   \n",
            "1                                                  0       ...             68   \n",
            "2                                                  0       ...             68   \n",
            "3                                                  0       ...             53   \n",
            "4                                                  0       ...             53   \n",
            "5                                                  0       ...             50   \n",
            "6                                                  0       ...             50   \n",
            "7                                                  6       ...             62   \n",
            "8                                                  5       ...             62   \n",
            "9                                                  6       ...             62   \n",
            "\n",
            "   histogram_max  histogram_number_of_peaks  histogram_number_of_zeroes  \\\n",
            "0            126                          2                           0   \n",
            "1            198                          6                           1   \n",
            "2            198                          5                           1   \n",
            "3            170                         11                           0   \n",
            "4            170                          9                           0   \n",
            "5            200                          5                           3   \n",
            "6            200                          6                           3   \n",
            "7            130                          0                           0   \n",
            "8            130                          0                           0   \n",
            "9            130                          1                           0   \n",
            "\n",
            "   histogram_mode  histogram_mean  histogram_median  histogram_variance  \\\n",
            "0             120             137               121                  73   \n",
            "1             141             136               140                  12   \n",
            "2             141             135               138                  13   \n",
            "3             137             134               137                  13   \n",
            "4             137             136               138                  11   \n",
            "5              76             107               107                 170   \n",
            "6              71             107               106                 215   \n",
            "7             122             122               123                   3   \n",
            "8             122             122               123                   3   \n",
            "9             122             122               123                   1   \n",
            "\n",
            "   histogram_tendency  fetal_health  \n",
            "0                   1             2  \n",
            "1                   0             1  \n",
            "2                   0             1  \n",
            "3                   1             1  \n",
            "4                   1             1  \n",
            "5                   0             3  \n",
            "6                   0             3  \n",
            "7                   1             3  \n",
            "8                   1             3  \n",
            "9                   1             3  \n",
            "\n",
            "[10 rows x 22 columns]\n"
          ]
        }
      ],
      "source": [
        "### Your code for 1.1(c) goes here ###\n",
        "print(fetal_df.head(10))"
      ]
    },
    {
      "cell_type": "markdown",
      "metadata": {
        "id": "kUKa9J6dz-hR"
      },
      "source": [
        "#### (d)"
      ]
    },
    {
      "cell_type": "code",
      "execution_count": 714,
      "metadata": {
        "id": "2xNG_h3wz-hS"
      },
      "outputs": [
        {
          "name": "stdout",
          "output_type": "stream",
          "text": [
            "(2126, 22)\n"
          ]
        }
      ],
      "source": [
        "### Your code for 1.1(d) goes here ###\n",
        "\n",
        "print(fetal_df.shape)"
      ]
    },
    {
      "cell_type": "markdown",
      "metadata": {
        "id": "Jy00M5wcz-hS"
      },
      "source": [
        "#### (e)"
      ]
    },
    {
      "cell_type": "markdown",
      "metadata": {
        "id": "TfEQY5rUt2fd"
      },
      "source": [
        "_[Your answer for 1.1(e) goes here]_"
      ]
    },
    {
      "cell_type": "markdown",
      "metadata": {},
      "source": [
        "Each row represents as samples."
      ]
    },
    {
      "cell_type": "markdown",
      "metadata": {
        "id": "sv2CGUT8uFX3"
      },
      "source": [
        "#### (f)"
      ]
    },
    {
      "cell_type": "markdown",
      "metadata": {
        "id": "tKhYMGeDuLax"
      },
      "source": [
        "_[Your answer for 1.1(f) goes here]_\n",
        "\n",
        "total 2126 samples are present in the dataset."
      ]
    },
    {
      "cell_type": "markdown",
      "metadata": {
        "id": "N0TPsxCauZJ6"
      },
      "source": [
        "#### (g)"
      ]
    },
    {
      "cell_type": "markdown",
      "metadata": {
        "id": "KXYePFTTubbg"
      },
      "source": [
        "_[Your answer for 1.1(g) goes here]_\n",
        "\n",
        "1. baseline value\n",
        "2. accelerations\n",
        "3. fetal_movement\n",
        "4. uterine_contractions\n",
        "5. light_decelerations\n",
        "6. severe_decelerations\n",
        "7. prolongued_decelerations\n",
        "8. abnormal_short_term_variability\n",
        "9. mean_value_of_short_term_variability\n",
        "10. percentage_of_time_with_abnormal_long_term_variability\n",
        "11. mean_value_of_long_term_variability\n",
        "12. histogram_width\n",
        "13. histogram_min\n",
        "14. histogram_max\n",
        "15. histogram_number_of_peaks\n",
        "16. histogram_number_of_zeroes\n",
        "17. histogram_mode\n",
        "18. histogram_mean\n",
        "19. histogram_median\n",
        "20. histogram_variance\n",
        "21. histogram_tendency\n"
      ]
    },
    {
      "cell_type": "markdown",
      "metadata": {
        "id": "hTwCZxwFuhZs"
      },
      "source": [
        "#### (h)"
      ]
    },
    {
      "cell_type": "markdown",
      "metadata": {
        "id": "URok105CuhHF"
      },
      "source": [
        "_[Your answer for 1.1(h) goes here]_\n",
        "\n",
        "1. fetal_health"
      ]
    },
    {
      "cell_type": "markdown",
      "metadata": {
        "id": "5XeG2MZFup3y"
      },
      "source": [
        "#### (i)"
      ]
    },
    {
      "cell_type": "markdown",
      "metadata": {
        "id": "5tt7ikfNupvv"
      },
      "source": [
        "_[Your answer for 1.1(i) goes here]_\n",
        "\n",
        "The size of nXp matrix is (2126,21)."
      ]
    },
    {
      "cell_type": "markdown",
      "metadata": {
        "id": "BOeDxdYOupk-"
      },
      "source": [
        "#### (j)"
      ]
    },
    {
      "cell_type": "markdown",
      "metadata": {
        "id": "A1IqEbduupbQ"
      },
      "source": [
        "_[Your answer for 1.1(j) goes here]_\n",
        "\n",
        "The Size of nXm matrix is (2126,1)."
      ]
    },
    {
      "cell_type": "markdown",
      "metadata": {
        "id": "gLVO6JSHupOE"
      },
      "source": [
        "#### (k)"
      ]
    },
    {
      "cell_type": "markdown",
      "metadata": {
        "id": "AHbPBjDsuo6j"
      },
      "source": [
        "_[Your answer for 1.1(k) goes here]_\n",
        "\n",
        "after analysing dataset, it can be said that given data is not given in raw form. Some pre-processing has been done on this dataset and these variables include mode, mean, median and varience.\n",
        "\n",
        "\n"
      ]
    },
    {
      "cell_type": "markdown",
      "metadata": {
        "id": "ps849tTTu74M"
      },
      "source": [
        "#### (l)"
      ]
    },
    {
      "cell_type": "code",
      "execution_count": 715,
      "metadata": {
        "id": "XlIIQGYQz-hT"
      },
      "outputs": [
        {
          "name": "stdout",
          "output_type": "stream",
          "text": [
            "categorical variables: ['severe_decelerations', 'histogram_tendency', 'fetal_health']\n"
          ]
        },
        {
          "data": {
            "image/png": "[encoded data removed]",
            "text/plain": [
              "<Figure size 1000x800 with 4 Axes>"
            ]
          },
          "metadata": {},
          "output_type": "display_data"
        }
      ],
      "source": [
        "### Your code for 1.1(l) goes here ###\n",
        "\n",
        "categorical_columns = []\n",
        "\n",
        "for column in fetal_df.columns:\n",
        "    unique_values = fetal_df[column].dropna().unique()  # Exclude NaNs before getting unique values\n",
        "    if  len(unique_values) <= 5:\n",
        "        categorical_columns.append(column)\n",
        "\n",
        "print(f\"categorical variables: {categorical_columns}\")\n",
        "\n",
        "# Plot histograms for each categorical column\n",
        "fetal_df[categorical_columns].hist(figsize=(10, 8), layout=(len(categorical_columns)//2 + 1, 2))\n",
        "plt.tight_layout()  # Adjusts the layout to prevent overlap\n",
        "plt.show()\n"
      ]
    },
    {
      "cell_type": "markdown",
      "metadata": {
        "id": "240_-4A5u8oB"
      },
      "source": [
        "_[Your justification for 1.1(l) goes here]_\n",
        "\n",
        "('severe_decelerations', 'histogram_tendency', 'fetal_health' ) these data column's value can be easily categorised. For other columns contain different values which is hard to categorised justifiable format. "
      ]
    },
    {
      "cell_type": "markdown",
      "metadata": {
        "id": "avTEhBQLvMtw"
      },
      "source": [
        "#### (m)"
      ]
    },
    {
      "cell_type": "markdown",
      "metadata": {
        "id": "r1psH--XvMV8"
      },
      "source": [
        "_[Your answer for 1.1(m) goes here]_\n",
        "\n",
        "this data set follows one-hot encoding."
      ]
    },
    {
      "cell_type": "markdown",
      "metadata": {
        "id": "qVW9ov3kvMRj"
      },
      "source": [
        "#### (n)"
      ]
    },
    {
      "cell_type": "code",
      "execution_count": 716,
      "metadata": {
        "id": "zV2P8n4pvUQT"
      },
      "outputs": [
        {
          "name": "stdout",
          "output_type": "stream",
          "text": [
            "Normal: 1655\n",
            "Suspect: 295\n",
            "Pathological: 176\n"
          ]
        }
      ],
      "source": [
        "### Your code for 1.1(n) goes here ###\n",
        "\n",
        "health_counts = fetal_df['fetal_health'].value_counts()\n",
        "print(f\"Normal: {health_counts[1]}\")\n",
        "print(f\"Suspect: {health_counts[2]}\")\n",
        "print(f\"Pathological: {health_counts[3]}\")\n"
      ]
    },
    {
      "cell_type": "markdown",
      "metadata": {
        "id": "z8lTzSQFwqI1"
      },
      "source": [
        "## **Dirty Dataset**"
      ]
    },
    {
      "cell_type": "code",
      "execution_count": 717,
      "metadata": {
        "id": "hAMx9uwbw8rV"
      },
      "outputs": [],
      "source": [
        "# load the dirty dataset csv file into a pandas dataframe\n",
        "\n",
        "fetal_dirty_df = pd.read_csv('fetal_health_dataset_dirty.csv')"
      ]
    },
    {
      "cell_type": "markdown",
      "metadata": {
        "id": "nOJPywDYz-hT"
      },
      "source": [
        "### Problem 1.2"
      ]
    },
    {
      "cell_type": "markdown",
      "metadata": {
        "id": "UTf6Yiqjz-hT"
      },
      "source": [
        "#### (a)"
      ]
    },
    {
      "cell_type": "code",
      "execution_count": 718,
      "metadata": {
        "id": "qOPVMIawz-hU"
      },
      "outputs": [
        {
          "name": "stdout",
          "output_type": "stream",
          "text": [
            "Are there missing values in the dataset?  True\n"
          ]
        }
      ],
      "source": [
        "### Your code for 1.2(a) goes here ###\n",
        "\n",
        "has_missing_values = fetal_dirty_df.isna().any().any()\n",
        "\n",
        "print(\"Are there missing values in the dataset? \", has_missing_values)"
      ]
    },
    {
      "cell_type": "markdown",
      "metadata": {
        "id": "CrZQxH5hz-hU"
      },
      "source": [
        "#### (b)"
      ]
    },
    {
      "cell_type": "code",
      "execution_count": 719,
      "metadata": {
        "id": "ESSjRnLCz-hU"
      },
      "outputs": [
        {
          "name": "stdout",
          "output_type": "stream",
          "text": [
            "Columns with missing values:\n",
            "baseline value                                            47\n",
            "percentage_of_time_with_abnormal_long_term_variability    10\n",
            "histogram_max                                             24\n",
            "histogram_mode                                             5\n",
            "dtype: int64\n"
          ]
        }
      ],
      "source": [
        "### Your code for 1.2(b) goes here ###\n",
        "\n",
        "# Count the number of rows that have missing values\n",
        "columns_with_missing_values = fetal_dirty_df.isna().sum()[fetal_dirty_df.isna().sum() > 0]\n",
        "\n",
        "print(\"Columns with missing values:\")\n",
        "print(columns_with_missing_values)\n"
      ]
    },
    {
      "cell_type": "markdown",
      "metadata": {
        "id": "hWh95Fiyz-hU"
      },
      "source": [
        "#### (c)"
      ]
    },
    {
      "cell_type": "code",
      "execution_count": 720,
      "metadata": {
        "id": "VZ9EtxC-z-hV"
      },
      "outputs": [
        {
          "name": "stdout",
          "output_type": "stream",
          "text": [
            "Number of rows with missing values:  86\n"
          ]
        }
      ],
      "source": [
        "### Your code for 1.2(c) goes here ###\n",
        "\n",
        "# Count the number of rows that have missing values\n",
        "rows_with_missing_values = fetal_dirty_df[fetal_dirty_df.isna().any(axis=1)]\n",
        "Total_number_of_rows = len(rows_with_missing_values)\n",
        "print(\"Number of rows with missing values: \", Total_number_of_rows )\n"
      ]
    },
    {
      "cell_type": "markdown",
      "metadata": {
        "id": "OYDjQvfFxnQw"
      },
      "source": [
        "### Problem 1.3\n"
      ]
    },
    {
      "cell_type": "code",
      "execution_count": 721,
      "metadata": {
        "id": "5YCLwVJuxrXG"
      },
      "outputs": [
        {
          "name": "stdout",
          "output_type": "stream",
          "text": [
            "     baseline value  accelerations  fetal_movement  uterine_contractions  \\\n",
            "91            148.0          0.000           0.000                 0.000   \n",
            "92            148.0          0.000           0.003                 0.000   \n",
            "93              NaN          0.000           0.000                 0.000   \n",
            "94            148.0          0.000           0.005                 0.002   \n",
            "95            148.0          0.000           0.000                 0.000   \n",
            "96            148.0          0.000           0.000                 0.000   \n",
            "97            148.0          0.000           0.001                 0.000   \n",
            "98            148.0          0.000           0.001                 0.000   \n",
            "99            125.0          0.010           0.007                 0.002   \n",
            "100           125.0          0.005           0.000                 0.002   \n",
            "\n",
            "     light_decelerations  severe_decelerations  prolongued_decelerations  \\\n",
            "91                 0.000                   0.0                       0.0   \n",
            "92                 0.000                   0.0                       0.0   \n",
            "93                 0.000                   0.0                       0.0   \n",
            "94                 0.000                   0.0                       0.0   \n",
            "95                 0.000                   0.0                       0.0   \n",
            "96                 0.000                   0.0                       0.0   \n",
            "97                 0.001                   0.0                       0.0   \n",
            "98                 0.001                   0.0                       0.0   \n",
            "99                 0.000                   0.0                       0.0   \n",
            "100                0.003                   0.0                       0.0   \n",
            "\n",
            "     abnormal_short_term_variability  mean_value_of_short_term_variability  \\\n",
            "91                              67.0                                   0.4   \n",
            "92                              70.0                                   0.3   \n",
            "93                              68.0                                   0.3   \n",
            "94                               NaN                                   0.3   \n",
            "95                              58.0                                   0.5   \n",
            "96                              63.0                                   0.4   \n",
            "97                              60.0                                   0.5   \n",
            "98                              61.0                                   0.5   \n",
            "99                              19.0                                   1.9   \n",
            "100                             25.0                                   1.7   \n",
            "\n",
            "     percentage_of_time_with_abnormal_long_term_variability  ...  \\\n",
            "91                                                67.0       ...   \n",
            "92                                                68.0       ...   \n",
            "93                                                75.0       ...   \n",
            "94                                                74.0       ...   \n",
            "95                                                 7.0       ...   \n",
            "96                                                30.0       ...   \n",
            "97                                                49.0       ...   \n",
            "98                                                39.0       ...   \n",
            "99                                                 0.0       ...   \n",
            "100                                                6.0       ...   \n",
            "\n",
            "     histogram_min  histogram_max  histogram_number_of_peaks  \\\n",
            "91             139          154.0                          4   \n",
            "92             136          153.0                          2   \n",
            "93             128            NaN                          3   \n",
            "94             136          152.0                          0   \n",
            "95             135          156.0                          1   \n",
            "96             121          156.0                          3   \n",
            "97              78            NaN                          3   \n",
            "98             130            NaN                          2   \n",
            "99             101            NaN                          8   \n",
            "100             72            NaN                          3   \n",
            "\n",
            "     histogram_number_of_zeroes  histogram_mode  histogram_mean  \\\n",
            "91                            0           150.0             149   \n",
            "92                            0           150.0             148   \n",
            "93                            0           150.0             149   \n",
            "94                            0           150.0             148   \n",
            "95                            0           150.0             149   \n",
            "96                            1           150.0             149   \n",
            "97                            0           154.0             152   \n",
            "98                            0           154.0             152   \n",
            "99                            1           133.0             131   \n",
            "100                           0           133.0             128   \n",
            "\n",
            "     histogram_median  histogram_variance  histogram_tendency  fetal_health  \n",
            "91              151.0                   0                   1             2  \n",
            "92              150.0                   0                   1             2  \n",
            "93              151.0                   0                   1             3  \n",
            "94              150.0                   0                   1             3  \n",
            "95              151.0                   1                   1             1  \n",
            "96              151.0                   1                   1             2  \n",
            "97              154.0                   1                   1             2  \n",
            "98              154.0                   1                   1             2  \n",
            "99              133.0                   5                  -1             1  \n",
            "100             132.0                  10                   0             1  \n",
            "\n",
            "[10 rows x 22 columns]\n"
          ]
        }
      ],
      "source": [
        "### Your code for 1.3 goes here ###\n",
        "\n",
        "# Define the valid ranges for each column except 'fetal_health'\n",
        "valid_ranges = {\n",
        "    'baseline value': (106, 160),\n",
        "    'accelerations': (0, 0.02),\n",
        "    'fetal_movements': (0, 0.013),\n",
        "    'uterine_contractions': (0, 0.03),\n",
        "    'light_decelerations': (0, 0.01),\n",
        "    'severe_decelerations': (0, 0.002),\n",
        "    'prolonged_decelerations': (0, 0.003),\n",
        "    'abnormal_short_term_variability': (0, 70),\n",
        "    'mean_value_of_short_term_variability': (0, 10),\n",
        "    'percentage_of_time_with_abnormal_long_term_variability': (0, 100),\n",
        "    'mean_value_of_long_term_variability': (0, 50),\n",
        "    'histogram_width': (0, 50),\n",
        "    'histogram_min': (50, 160),\n",
        "    'histogram_max': (50, 160),\n",
        "    'histogram_mode': (110, 160),\n",
        "    'histogram_median': (110, 160),\n",
        "    'histogram_variance': (0, 1000),\n",
        "    'histogram_tendency': (-1, 1),\n",
        "    'fetal_health':(1,4)\n",
        "}\n",
        "\n",
        "# Function to replace out-of-range values with NaN directly in the DataFrame\n",
        "def replace_out_of_range_with_nan(fetal_dirty_df, valid_ranges):\n",
        "    # Iterate through the valid ranges dictionary\n",
        "    for column, (min_val, max_val) in valid_ranges.items():\n",
        "        if column in fetal_dirty_df.columns:  # Check if the column exists\n",
        "            # Replace out-of-range values with NaN, leaving other columns unchanged\n",
        "            fetal_dirty_df[column] = fetal_dirty_df[column].where(fetal_dirty_df[column].between(min_val, max_val), np.nan)\n",
        "\n",
        "# Apply the function to the existing dataframe\n",
        "replace_out_of_range_with_nan(fetal_dirty_df, valid_ranges)\n",
        "\n",
        "# Show rows 91 to 100 after logical consistency checks\n",
        "print(fetal_dirty_df.loc[91:100])\n",
        " \n"
      ]
    },
    {
      "cell_type": "markdown",
      "metadata": {
        "id": "zpP3WEH6xw9b"
      },
      "source": [
        "_[Your justification for 1.3 goes here]_\n",
        "\n",
        "Ensuring that the data is within a logically acceptable range is critical for maintaining high-quality datasets. In healthcare datasets, invalid or unrealistic values can significantly impact analysis and modeling outcomes which can lead to false conclusions. The ranges defined for each variable are based on clinical knowledge and understanding of fetal health parameters. For instance, a baseline value of fetal heart rate outside the range of 106 to 160 beats per minute would be considered abnormal and could indicate potential issues with fetal health."
      ]
    },
    {
      "cell_type": "markdown",
      "metadata": {
        "id": "OqxjckzSz-hV"
      },
      "source": [
        "### Problem 1.4"
      ]
    },
    {
      "cell_type": "code",
      "execution_count": 722,
      "metadata": {
        "id": "IPw21Smex-cV"
      },
      "outputs": [
        {
          "name": "stdout",
          "output_type": "stream",
          "text": [
            "\n",
            "First 20 Rows of the Standardized DataFrame:\n",
            "    baseline value  accelerations  fetal_movement  uterine_contractions  \\\n",
            "0        -1.350760      -0.822195       -0.203162             -1.482116   \n",
            "1        -0.131036       0.729961       -0.203162              0.554496   \n",
            "2        -0.029392      -0.046117       -0.203162              1.233367   \n",
            "3         0.072252      -0.046117       -0.203162              1.233367   \n",
            "4        -0.131036       0.988654       -0.203162              1.233367   \n",
            "5         0.072252      -0.563502       -0.203162              1.912238   \n",
            "6         0.072252      -0.563502       -0.203162              2.930544   \n",
            "7        -1.147472      -0.822195       -0.203162             -1.482116   \n",
            "8        -1.147472      -0.822195       -0.203162             -0.803245   \n",
            "9        -1.147472      -0.822195       -0.203162             -0.463810   \n",
            "10        1.800194      -0.822195       -0.203162             -1.142681   \n",
            "11        1.698550      -0.822195       -0.203162             -1.142681   \n",
            "12       -0.232679       0.471268        1.339723              1.233367   \n",
            "13       -0.232679       1.506039        4.554065              0.554496   \n",
            "14       -0.334323       0.729961        8.539849             -0.124374   \n",
            "15       -0.334323       0.729961        7.939839             -0.124374   \n",
            "16       -0.334323       0.729961        9.247005              0.215061   \n",
            "17       -0.232679      -0.304810        8.004126             -0.463810   \n",
            "18       -0.334323      -0.046117        9.461294              0.554496   \n",
            "19       -0.334323       0.471268        9.847015              0.215061   \n",
            "\n",
            "    light_decelerations  severe_decelerations  prolongued_decelerations  \\\n",
            "0             -0.652153                   0.0                 -0.268691   \n",
            "1              0.517903                   0.0                 -0.268691   \n",
            "2              0.517903                   0.0                 -0.268691   \n",
            "3              0.517903                   0.0                 -0.268691   \n",
            "4             -0.652153                   0.0                 -0.268691   \n",
            "5              2.858015                   0.0                  3.121441   \n",
            "6              2.467996                   0.0                  4.816507   \n",
            "7             -0.652153                   0.0                 -0.268691   \n",
            "8             -0.652153                   0.0                 -0.268691   \n",
            "9             -0.652153                   0.0                 -0.268691   \n",
            "10            -0.262135                   0.0                 -0.268691   \n",
            "11            -0.262135                   0.0                 -0.268691   \n",
            "12             0.517903                   0.0                 -0.268691   \n",
            "13             0.127884                   0.0                 -0.268691   \n",
            "14             1.297940                   0.0                  1.426375   \n",
            "15             0.907922                   0.0                  1.426375   \n",
            "16             1.297940                   0.0                 -0.268691   \n",
            "17             1.297940                   0.0                  3.121441   \n",
            "18             0.907922                   0.0                  1.426375   \n",
            "19             0.907922                   0.0                  1.426375   \n",
            "\n",
            "    abnormal_short_term_variability  mean_value_of_short_term_variability  \\\n",
            "0                               NaN                             -0.942873   \n",
            "1                         -1.777607                              0.868636   \n",
            "2                         -1.842122                              0.868636   \n",
            "3                         -1.842122                              1.208294   \n",
            "4                         -1.842122                              1.208294   \n",
            "5                         -1.196979                              5.170971   \n",
            "6                         -1.003436                              5.623848   \n",
            "7                               NaN                             -0.942873   \n",
            "8                               NaN                             -0.942873   \n",
            "9                               NaN                             -1.169312   \n",
            "10                         1.254565                              0.642198   \n",
            "11                         1.254565                              0.755417   \n",
            "12                        -1.067950                              0.076101   \n",
            "13                        -1.067950                              0.189320   \n",
            "14                        -1.519550                              1.095075   \n",
            "15                        -1.648579                              1.095075   \n",
            "16                        -1.326007                              0.868636   \n",
            "17                        -1.713093                              1.208294   \n",
            "18                        -1.390521                              0.642198   \n",
            "19                        -1.003436                              0.415759   \n",
            "\n",
            "    percentage_of_time_with_abnormal_long_term_variability  ...  \\\n",
            "0                                            1.808583       ...   \n",
            "1                                           -0.532666       ...   \n",
            "2                                           -0.532666       ...   \n",
            "3                                           -0.532666       ...   \n",
            "4                                           -0.532666       ...   \n",
            "5                                           -0.532666       ...   \n",
            "6                                           -0.532666       ...   \n",
            "7                                           -0.205980       ...   \n",
            "8                                           -0.260427       ...   \n",
            "9                                           -0.205980       ...   \n",
            "10                                          -0.042637       ...   \n",
            "11                                          -0.097085       ...   \n",
            "12                                          -0.532666       ...   \n",
            "13                                          -0.532666       ...   \n",
            "14                                          -0.532666       ...   \n",
            "15                                          -0.532666       ...   \n",
            "16                                          -0.532666       ...   \n",
            "17                                          -0.532666       ...   \n",
            "18                                          -0.532666       ...   \n",
            "19                                          -0.532666       ...   \n",
            "\n",
            "    histogram_min  histogram_max  histogram_number_of_peaks  \\\n",
            "0       -1.068311      -2.820435                  -0.701232   \n",
            "1       -0.865335            NaN                   0.654983   \n",
            "2       -0.865335            NaN                   0.315929   \n",
            "3       -1.372774            NaN                   2.350251   \n",
            "4       -1.372774            NaN                   1.672144   \n",
            "5       -1.474262            NaN                   0.315929   \n",
            "6       -1.474262            NaN                   0.654983   \n",
            "7       -1.068311      -2.338078                  -1.379339   \n",
            "8       -1.068311      -2.338078                  -1.379339   \n",
            "9       -1.068311      -2.338078                  -1.040286   \n",
            "10      -1.271286            NaN                  -0.701232   \n",
            "11      -1.271286            NaN                   0.315929   \n",
            "12      -0.188750       0.556064                   0.315929   \n",
            "13      -0.763847       1.038421                  -0.701232   \n",
            "14      -0.899164            NaN                   0.994036   \n",
            "15      -0.899164            NaN                  -0.362178   \n",
            "16      -1.372774            NaN                   0.315929   \n",
            "17      -0.899164            NaN                   0.315929   \n",
            "18      -1.169799       1.038421                   0.654983   \n",
            "19      -0.966823            NaN                   0.654983   \n",
            "\n",
            "    histogram_number_of_zeroes  histogram_mode  histogram_mean  \\\n",
            "0                    -0.458336       -1.570724        0.153234   \n",
            "1                     0.957976        0.233861        0.089105   \n",
            "2                     0.957976        0.233861        0.024976   \n",
            "3                    -0.458336       -0.109869       -0.039153   \n",
            "4                    -0.458336       -0.109869        0.089105   \n",
            "5                     3.790598             NaN       -1.770633   \n",
            "6                     3.790598             NaN       -1.770633   \n",
            "7                    -0.458336       -1.398859       -0.808700   \n",
            "8                    -0.458336       -1.398859       -0.808700   \n",
            "9                    -0.458336       -1.398859       -0.808700   \n",
            "10                   -0.458336        1.007255        0.858651   \n",
            "11                   -0.458336        1.007255        0.858651   \n",
            "12                   -0.458336       -0.281735       -0.039153   \n",
            "13                   -0.458336        0.233861        0.153234   \n",
            "14                   -0.458336        0.405726       -0.616313   \n",
            "15                   -0.458336       -0.367667       -0.488055   \n",
            "16                   -0.458336        0.405726       -0.423926   \n",
            "17                   -0.458336       -0.367667       -0.616313   \n",
            "18                   -0.458336       -0.453600       -0.680442   \n",
            "19                    0.957976       -0.453600       -0.359797   \n",
            "\n",
            "    histogram_median  histogram_variance  histogram_tendency  fetal_health  \n",
            "0          -1.466402            1.870129                   1             2  \n",
            "1           0.143777           -0.234943                   0             1  \n",
            "2          -0.025716           -0.200434                   0             1  \n",
            "3          -0.110462           -0.200434                   1             1  \n",
            "4          -0.025716           -0.269452                   1             1  \n",
            "5                NaN            5.217538                   0             3  \n",
            "6                NaN            6.770459                   0             3  \n",
            "7          -1.296910           -0.545527                   1             3  \n",
            "8          -1.296910           -0.545527                   1             3  \n",
            "9          -1.296910           -0.614546                   1             3  \n",
            "10          1.075986           -0.338471                   1             2  \n",
            "11          1.075986           -0.303962                   1             2  \n",
            "12         -0.110462           -0.407490                   1             1  \n",
            "13          0.228523           -0.303962                   1             1  \n",
            "14         -0.279955            1.973657                   0             1  \n",
            "15         -0.449447            0.834848                   0             1  \n",
            "16         -0.025716            1.766601                   1             1  \n",
            "17         -0.534193            0.903866                   0             2  \n",
            "18         -0.788432            0.593282                   1             1  \n",
            "19         -0.449447            0.282698                   0             1  \n",
            "\n",
            "[20 rows x 22 columns]\n"
          ]
        }
      ],
      "source": [
        "### Your code for 1.4 goes here ###\n",
        "\n",
        "categorical_columns = ['severe_decelerations', 'histogram_tendency', 'fetal_health']\n",
        "\n",
        "\n",
        "numerical_columns = [col for col in fetal_dirty_df.columns if col not in categorical_columns]\n",
        "\n",
        "\n",
        "# Standardize each numerical column\n",
        "for column in numerical_columns:\n",
        "    mean = fetal_dirty_df[column].mean(skipna=True)\n",
        "    std = fetal_dirty_df[column].std(skipna=True)\n",
        "    if std != 0:\n",
        "        fetal_dirty_df[column] = fetal_dirty_df[column].apply(lambda x: (x - mean) / std if not pd.isna(x) else x)\n",
        "    \n",
        "\n",
        "# Print the first 20 rows of the standardized DataFrame\n",
        "print(\"\\nFirst 20 Rows of the Standardized DataFrame:\")\n",
        "print(fetal_dirty_df.head(20))\n",
        "\n",
        "\n"
      ]
    },
    {
      "cell_type": "markdown",
      "metadata": {
        "id": "bgxDFuA3z-hW"
      },
      "source": [
        "### Problem 1.5"
      ]
    },
    {
      "cell_type": "code",
      "execution_count": 723,
      "metadata": {
        "id": "-0v14ybDz-hW"
      },
      "outputs": [
        {
          "name": "stdout",
          "output_type": "stream",
          "text": [
            "baseline value                                            0\n",
            "accelerations                                             0\n",
            "fetal_movement                                            0\n",
            "uterine_contractions                                      0\n",
            "light_decelerations                                       0\n",
            "severe_decelerations                                      0\n",
            "prolongued_decelerations                                  0\n",
            "abnormal_short_term_variability                           0\n",
            "mean_value_of_short_term_variability                      0\n",
            "percentage_of_time_with_abnormal_long_term_variability    0\n",
            "mean_value_of_long_term_variability                       0\n",
            "histogram_width                                           0\n",
            "histogram_min                                             0\n",
            "histogram_max                                             0\n",
            "histogram_number_of_peaks                                 0\n",
            "histogram_number_of_zeroes                                0\n",
            "histogram_mode                                            0\n",
            "histogram_mean                                            0\n",
            "histogram_median                                          0\n",
            "histogram_variance                                        0\n",
            "histogram_tendency                                        0\n",
            "fetal_health                                              0\n",
            "dtype: int64\n"
          ]
        }
      ],
      "source": [
        "### Your code for 1.5 goes here ###\n",
        "\n",
        "# Replace NaN values with the median within the same fetal_health category\n",
        "for col in fetal_dirty_df.columns:\n",
        "    if col != 'fetal_health':  # Skip the fetal_health column, as it's categorical\n",
        "        \n",
        "        fetal_dirty_df[col] = fetal_dirty_df.groupby('fetal_health')[col].transform(lambda x: x.fillna(x.median()))\n",
        "\n",
        "# Verify no more NaN values in the dataframe\n",
        "print(fetal_dirty_df.isna().sum())\n"
      ]
    },
    {
      "cell_type": "markdown",
      "metadata": {
        "id": "RRrpdSTJyGt1"
      },
      "source": [
        "### Problem 1.6"
      ]
    },
    {
      "cell_type": "code",
      "execution_count": 724,
      "metadata": {
        "id": "Ctwd0h7XyG8k"
      },
      "outputs": [],
      "source": [
        "### Your code for 1.6 goes here ###\n",
        "\n",
        "# Apply one-hot encoding to the 'fetal_health' variable\n",
        "fetal_final_df = pd.get_dummies(fetal_dirty_df, columns=['fetal_health'], prefix='health')\n",
        "\n",
        "# Save the final pre-processed dataframe to a CSV file\n",
        "fetal_final_df.to_csv('fetal_health_dataset_processed.csv', index=False)\n",
        "\n"
      ]
    },
    {
      "cell_type": "markdown",
      "metadata": {
        "id": "E8hZzOSvymHL"
      },
      "source": [
        "# **2. Heart Failure Prediction Dataset**"
      ]
    },
    {
      "cell_type": "markdown",
      "metadata": {
        "id": "5YpfhDVMymHM"
      },
      "source": [
        "## Problem 2.1"
      ]
    },
    {
      "cell_type": "code",
      "execution_count": 725,
      "metadata": {
        "id": "xD1GcvD4ymHM"
      },
      "outputs": [],
      "source": [
        "# load the dataset csv file into a pandas dataframe\n",
        "\n",
        "heart_df = pd.read_csv('heart_failure_dataset.csv')"
      ]
    },
    {
      "cell_type": "markdown",
      "metadata": {
        "id": "1EQWwLbvymHN"
      },
      "source": [
        "### (a)"
      ]
    },
    {
      "cell_type": "markdown",
      "metadata": {
        "id": "6GkRt8w6ymHN"
      },
      "source": [
        "It is a Supervised learning. It has labeled dataset in terms of independent and dependent variables."
      ]
    },
    {
      "cell_type": "markdown",
      "metadata": {
        "id": "T5HoKdioymHN"
      },
      "source": [
        "### (b)"
      ]
    },
    {
      "cell_type": "code",
      "execution_count": 726,
      "metadata": {
        "id": "xUGIEmzYymHN"
      },
      "outputs": [
        {
          "name": "stdout",
          "output_type": "stream",
          "text": [
            "[RangeIndex(start=0, stop=299, step=1), Index(['age', 'anaemia', 'creatinine_phosphokinase', 'diabetes',\n",
            "       'ejection_fraction', 'high_blood_pressure', 'platelets',\n",
            "       'serum_creatinine', 'serum_sodium', 'sex', 'smoking', 'time',\n",
            "       'DEATH_EVENT'],\n",
            "      dtype='object')]\n",
            "age                         float64\n",
            "anaemia                       int64\n",
            "creatinine_phosphokinase      int64\n",
            "diabetes                      int64\n",
            "ejection_fraction             int64\n",
            "high_blood_pressure           int64\n",
            "platelets                   float64\n",
            "serum_creatinine            float64\n",
            "serum_sodium                  int64\n",
            "sex                           int64\n",
            "smoking                       int64\n",
            "time                          int64\n",
            "DEATH_EVENT                   int64\n",
            "dtype: object\n"
          ]
        }
      ],
      "source": [
        "### Your code for 2.1(b) goes here ###\n",
        "\n",
        "print(heart_df.axes)\n",
        "print(heart_df.dtypes)\n"
      ]
    },
    {
      "cell_type": "markdown",
      "metadata": {
        "id": "TGHAoXfMymHO"
      },
      "source": [
        "### (c)\n",
        "\n"
      ]
    },
    {
      "cell_type": "code",
      "execution_count": 727,
      "metadata": {
        "id": "ItDMYWoFymHO"
      },
      "outputs": [
        {
          "name": "stdout",
          "output_type": "stream",
          "text": [
            "    age  anaemia  creatinine_phosphokinase  diabetes  ejection_fraction  \\\n",
            "0  75.0        0                       582         0                 20   \n",
            "1  55.0        0                      7861         0                 38   \n",
            "2  65.0        0                       146         0                 20   \n",
            "3  50.0        1                       111         0                 20   \n",
            "4  65.0        1                       160         1                 20   \n",
            "5  90.0        1                        47         0                 40   \n",
            "6  75.0        1                       246         0                 15   \n",
            "7  60.0        1                       315         1                 60   \n",
            "8  65.0        0                       157         0                 65   \n",
            "9  80.0        1                       123         0                 35   \n",
            "\n",
            "   high_blood_pressure  platelets  serum_creatinine  serum_sodium  sex  \\\n",
            "0                    1  265000.00               1.9           130    1   \n",
            "1                    0  263358.03               1.1           136    1   \n",
            "2                    0  162000.00               1.3           129    1   \n",
            "3                    0  210000.00               1.9           137    1   \n",
            "4                    0  327000.00               2.7           116    0   \n",
            "5                    1  204000.00               2.1           132    1   \n",
            "6                    0  127000.00               1.2           137    1   \n",
            "7                    0  454000.00               1.1           131    1   \n",
            "8                    0  263358.03               1.5           138    0   \n",
            "9                    1  388000.00               9.4           133    1   \n",
            "\n",
            "   smoking  time  DEATH_EVENT  \n",
            "0        0     4            1  \n",
            "1        0     6            1  \n",
            "2        1     7            1  \n",
            "3        0     7            1  \n",
            "4        0     8            1  \n",
            "5        1     8            1  \n",
            "6        0    10            1  \n",
            "7        1    10            1  \n",
            "8        0    10            1  \n",
            "9        1    10            1  \n"
          ]
        }
      ],
      "source": [
        "### Your code for 2.1(c) goes here ###\n",
        "\n",
        "print(heart_df.head(10))\n"
      ]
    },
    {
      "cell_type": "markdown",
      "metadata": {
        "id": "7kNl2WpSymHO"
      },
      "source": [
        "### (d)"
      ]
    },
    {
      "cell_type": "code",
      "execution_count": 728,
      "metadata": {
        "id": "AblNbsncymHO"
      },
      "outputs": [
        {
          "name": "stdout",
          "output_type": "stream",
          "text": [
            "(299, 13)\n"
          ]
        }
      ],
      "source": [
        "### Your code for 2.1(d) goes here ###\n",
        "\n",
        "print(heart_df.shape)\n"
      ]
    },
    {
      "cell_type": "markdown",
      "metadata": {
        "id": "xuh9-lN7ymHP"
      },
      "source": [
        "### (e)"
      ]
    },
    {
      "cell_type": "markdown",
      "metadata": {
        "id": "tL9qHIJXymHP"
      },
      "source": [
        "_[Your answer for 2.1(e) goes here]_\n",
        "\n",
        "There are total 299 samples present in the dataset.\n",
        "\n"
      ]
    },
    {
      "cell_type": "markdown",
      "metadata": {
        "id": "csN1zEzLymHP"
      },
      "source": [
        "### (f)"
      ]
    },
    {
      "cell_type": "markdown",
      "metadata": {
        "id": "a0HNj-AyymHP"
      },
      "source": [
        "_[Your answer for 2.1(f) goes here]_\n",
        "\n",
        "1. Age\n",
        "2. anaemia\n",
        "3. creatinine_phosphokinase\n",
        "4. diabetes\n",
        "5. ejection_fraction\n",
        "6. high_blood_pressure\n",
        "7. platelets\n",
        "8. serum_creatinine\n",
        "9. serum_sodium\n",
        "10. sex\n",
        "11. smoking\n",
        "12. time\n"
      ]
    },
    {
      "cell_type": "markdown",
      "metadata": {
        "id": "Ayov9je2ymHQ"
      },
      "source": [
        "### (g)"
      ]
    },
    {
      "cell_type": "markdown",
      "metadata": {
        "id": "B4E676ygymHQ"
      },
      "source": [
        "_[Your answer for 2.1(g) goes here]_\n",
        "\n",
        "1.Death_Event"
      ]
    },
    {
      "cell_type": "markdown",
      "metadata": {
        "id": "a8Bo-uKXymHQ"
      },
      "source": [
        "### (h)"
      ]
    },
    {
      "cell_type": "markdown",
      "metadata": {
        "id": "3gxnjWUgymHQ"
      },
      "source": [
        "_[Your answer for 2.1(h) goes here]_\n",
        "\n",
        "The size of nXp matrix is (299,12)."
      ]
    },
    {
      "cell_type": "markdown",
      "metadata": {
        "id": "G9BxqfsbymHQ"
      },
      "source": [
        "### (i)"
      ]
    },
    {
      "cell_type": "markdown",
      "metadata": {
        "id": "2bXh4Av6ymHR"
      },
      "source": [
        "_[Your answer for 2.1(i) goes here]_\n",
        "\n",
        "The size of nXm matrix is (299,1)."
      ]
    },
    {
      "cell_type": "markdown",
      "metadata": {
        "id": "OzpMBV2cymHR"
      },
      "source": [
        "### (j)"
      ]
    },
    {
      "cell_type": "code",
      "execution_count": 729,
      "metadata": {
        "id": "CM0kJiNMzftk"
      },
      "outputs": [
        {
          "name": "stdout",
          "output_type": "stream",
          "text": [
            "Categorical variables: ['anaemia', 'diabetes', 'high_blood_pressure', 'sex', 'smoking', 'DEATH_EVENT']\n"
          ]
        },
        {
          "data": {
            "image/png": "[encoded data removed]",
            "text/plain": [
              "<Figure size 1000x800 with 8 Axes>"
            ]
          },
          "metadata": {},
          "output_type": "display_data"
        }
      ],
      "source": [
        "### Your code for 2.1(j) goes here ###\n",
        "\n",
        "# using unique() function\n",
        "categorical_columns = [col for col in heart_df.columns if len(heart_df[col].unique()) <= 2]\n",
        "print(f'Categorical variables: {categorical_columns}')\n",
        "\n",
        "# Plot histograms\n",
        "heart_df[categorical_columns].hist(figsize=(10, 8), layout=(len(categorical_columns)//2 + 1, 2))\n",
        "plt.tight_layout()\n",
        "plt.show()\n"
      ]
    },
    {
      "cell_type": "markdown",
      "metadata": {
        "id": "1tX1-uIgymHR"
      },
      "source": [
        "_[Your justification for 2.1(j) goes here]_\n",
        "\n",
        "here total six data columns includes into categorical variables in the dataset.\n",
        "1. anaemia\n",
        "2. diabetes\n",
        "3. high_blood_pressure\n",
        "4. sex - Male or Female\n",
        "5. smoking - smoker or Non-smoker\n",
        "6. Death_event\n",
        "\n",
        "so this columns have two values 0 and 1 so that it can be categorised."
      ]
    },
    {
      "cell_type": "markdown",
      "metadata": {
        "id": "2BBhe25UymHR"
      },
      "source": [
        "### (k)"
      ]
    },
    {
      "cell_type": "markdown",
      "metadata": {
        "id": "PNxn1zIzymHR"
      },
      "source": [
        "_[Your answer for 2.1(k) goes here]_\n",
        "\n",
        "The categorical variables in the dataset are binary encoded as 0 or 1.\n"
      ]
    },
    {
      "cell_type": "markdown",
      "metadata": {
        "id": "e9TnxUb3ymHR"
      },
      "source": [
        "### (l)"
      ]
    },
    {
      "cell_type": "code",
      "execution_count": 730,
      "metadata": {
        "id": "KUfiYo3lymHS"
      },
      "outputs": [
        {
          "name": "stdout",
          "output_type": "stream",
          "text": [
            "DEATH_EVENT\n",
            "0    203\n",
            "1     96\n",
            "Name: count, dtype: int64\n"
          ]
        }
      ],
      "source": [
        "### Your code for 2.1(l) goes here ###\n",
        "\n",
        "# Counting the number of samples\n",
        "death_event_counts = heart_df['DEATH_EVENT'].value_counts()\n",
        "print(death_event_counts)\n"
      ]
    },
    {
      "cell_type": "markdown",
      "metadata": {
        "id": "VlxMlRziymHS"
      },
      "source": [
        "### (m)"
      ]
    },
    {
      "cell_type": "code",
      "execution_count": 731,
      "metadata": {
        "id": "Kp2yCXJ-z3Gh"
      },
      "outputs": [
        {
          "name": "stdout",
          "output_type": "stream",
          "text": [
            "sex\n",
            "1    194\n",
            "0    105\n",
            "Name: count, dtype: int64\n"
          ]
        }
      ],
      "source": [
        "### Your code for 2.1(m) goes here ###\n",
        "\n",
        "# sex (1 = male, 0 = female)\n",
        "sex_counts = heart_df['sex'].value_counts()\n",
        "print(sex_counts)\n"
      ]
    },
    {
      "cell_type": "markdown",
      "metadata": {
        "id": "S-53k2x3ymHS"
      },
      "source": [
        "### (n)"
      ]
    },
    {
      "cell_type": "code",
      "execution_count": 732,
      "metadata": {
        "id": "emwfFgVAymHT"
      },
      "outputs": [
        {
          "name": "stdout",
          "output_type": "stream",
          "text": [
            "smoking\n",
            "0    203\n",
            "1     96\n",
            "Name: count, dtype: int64\n"
          ]
        }
      ],
      "source": [
        "### Your code for 2.1(n) goes here ###\n",
        "\n",
        "#smokers (1) and non-smokers (0)\n",
        "smoker_counts = heart_df['smoking'].value_counts()\n",
        "print(smoker_counts)\n",
        "\n"
      ]
    },
    {
      "cell_type": "markdown",
      "metadata": {
        "id": "FpQWnOOpymHT"
      },
      "source": [
        "## Problem 2.2"
      ]
    },
    {
      "cell_type": "code",
      "execution_count": 733,
      "metadata": {
        "id": "QmAtpjMiymHU"
      },
      "outputs": [],
      "source": [
        "### Your code for 2.2 goes here ###\n",
        "\n",
        "# Define the valid ranges\n",
        "valid_ranges = {\n",
        "    'age': (40, 95),\n",
        "    'anaemia': (0, 1), \n",
        "    'creatinine_phosphokinase': (23, 10000),\n",
        "    'diabetes': (0, 1),  \n",
        "    'ejection_fraction': (10, 100),  \n",
        "    'high_blood_pressure': (0, 1),  \n",
        "    'platelets': (20000, 1000000),  \n",
        "    'serum_creatinine': (0.1, 15.0),\n",
        "    'serum_sodium': (100, 160),\n",
        "    'sex': (0, 1),\n",
        "    'smoking': (0, 1),\n",
        "    'time': (1, 365),\n",
        "    'death_event': (0, 1)\n",
        "}\n",
        "\n",
        "# Function to replace out-of-range values with NaN in the DataFrame\n",
        "def replace_with_nan(heart_df, valid_ranges):\n",
        "    \n",
        "    for column, (min_val, max_val) in valid_ranges.items():\n",
        "        if column in heart_df.columns:  \n",
        "            # Replace out-of-range values with NaN,other are remained same\n",
        "            heart_df[column] = heart_df[column].where(heart_df[column].between(min_val, max_val), np.nan)\n",
        "\n",
        "\n",
        "replace_with_nan(heart_df, valid_ranges)\n"
      ]
    },
    {
      "cell_type": "markdown",
      "metadata": {
        "id": "it9WyiZiymHU"
      },
      "source": [
        "_[Your justification for 2.2 goes here]_\n",
        "\n",
        "Validating data ensures that the values in the dataset adhere to realistic and medically acceptable ranges. For instance, an age of 95 is generally acceptable for a heart failure study, while a negative age or an age over 120 would be illogical. Similarly, parameters like serum sodium and creatinine levels have known physiological limits that are important for patient safety and research integrity."
      ]
    },
    {
      "cell_type": "markdown",
      "metadata": {
        "id": "6fqh4x4FymHV"
      },
      "source": [
        "## Problem 2.3"
      ]
    },
    {
      "cell_type": "code",
      "execution_count": 734,
      "metadata": {
        "id": "gMs526ezymHV"
      },
      "outputs": [
        {
          "name": "stdout",
          "output_type": "stream",
          "text": [
            "         age  anaemia  creatinine_phosphokinase  diabetes  ejection_fraction  \\\n",
            "0   1.190949        0                  0.000165         0          -1.527998   \n",
            "1  -0.490457        0                  7.502063         0          -0.007065   \n",
            "2   0.350246        0                 -0.449186         0          -1.527998   \n",
            "3  -0.910808        1                 -0.485257         0          -1.527998   \n",
            "4   0.350246        1                 -0.434757         1          -1.527998   \n",
            "5   2.452003        1                 -0.551217         0           0.161928   \n",
            "6   1.190949        1                 -0.346124         0          -1.950479   \n",
            "7  -0.070106        1                 -0.275011         1           1.851853   \n",
            "8   0.350246        0                 -0.437849         0           2.274335   \n",
            "9   1.611300        1                 -0.472890         0          -0.260554   \n",
            "10  1.190949        1                 -0.516176         0          -0.007065   \n",
            "11  0.098035        0                 -0.361583         0          -1.105517   \n",
            "12 -1.331160        1                  0.411384         0          -0.683035   \n",
            "13 -0.910808        1                 -0.426512         0          -0.007065   \n",
            "14 -0.994879        1                 -0.517207         0          -0.683035   \n",
            "15  1.779441        1                 -0.209051         0           1.006890   \n",
            "16  2.199792        1                 -0.446094         0          -0.007065   \n",
            "17 -1.331160        0                  0.000165         0          -2.034976   \n",
            "18  0.770597        1                 -0.470829         0          -1.105517   \n",
            "19 -1.078949        1                  0.000165         1           1.429372   \n",
            "\n",
            "    high_blood_pressure     platelets  serum_creatinine  serum_sodium  sex  \\\n",
            "0                     1  1.678834e-02          0.489237     -1.501519    1   \n",
            "1                     0  7.523048e-09         -0.284076     -0.141739    1   \n",
            "2                     0 -1.036336e+00         -0.090748     -1.728149    1   \n",
            "3                     0 -5.455595e-01          0.489237      0.084892    1   \n",
            "4                     0  6.507077e-01          1.262550     -4.674340    0   \n",
            "5                     1 -6.069065e-01          0.682565     -1.048259    1   \n",
            "6                     0 -1.394193e+00         -0.187412      0.084892    1   \n",
            "7                     0  1.949220e+00         -0.284076     -1.274889    1   \n",
            "8                     0  7.523048e-09          0.102580      0.311522    0   \n",
            "9                     1  1.274403e+00          7.739045     -0.821629    1   \n",
            "10                    1  1.069912e+00          2.519183     -1.274889    1   \n",
            "11                    1 -1.059057e-01         -0.477404      0.764782    1   \n",
            "12                    0 -1.302173e+00         -0.284076      0.084892    1   \n",
            "13                    1  1.292579e-01         -0.284076      0.084892    1   \n",
            "14                    1  1.673158e+00         -0.380740      0.311522    0   \n",
            "15                    0 -2.212154e+00         -0.090748     -0.141739    1   \n",
            "16                    0 -1.388518e-02         -0.477404      0.764782    1   \n",
            "17                    0 -9.954377e-01         -0.574068     -2.181409    1   \n",
            "18                    1 -2.694978e-01         -0.380740      0.764782    0   \n",
            "19                    0 -1.803174e+00          0.489237     -3.541189    0   \n",
            "\n",
            "    smoking      time  DEATH_EVENT  \n",
            "0         0 -1.626775            1  \n",
            "1         0 -1.601007            1  \n",
            "2         1 -1.588122            1  \n",
            "3         0 -1.588122            1  \n",
            "4         0 -1.575238            1  \n",
            "5         1 -1.575238            1  \n",
            "6         0 -1.549470            1  \n",
            "7         1 -1.549470            1  \n",
            "8         0 -1.549470            1  \n",
            "9         1 -1.549470            1  \n",
            "10        1 -1.549470            1  \n",
            "11        1 -1.549470            1  \n",
            "12        0 -1.536586            1  \n",
            "13        0 -1.536586            1  \n",
            "14        0 -1.523701            0  \n",
            "15        0 -1.510817            1  \n",
            "16        0 -1.497933            1  \n",
            "17        0 -1.497933            1  \n",
            "18        0 -1.485049            1  \n",
            "19        0 -1.485049            1  \n"
          ]
        }
      ],
      "source": [
        "### Your code for 2.3 goes here ###\n",
        "\n",
        "\n",
        "categorical_cols = ['anaemia', 'diabetes', 'high_blood_pressure', 'sex', 'smoking', 'DEATH_EVENT']\n",
        "\n",
        "\n",
        "numerical_cols = [col for col in heart_df.columns if col not in categorical_cols]\n",
        "\n",
        "\n",
        "# Standardize each numerical column\n",
        "for column in numerical_cols:\n",
        "    mean = heart_df[column].mean(skipna=True)\n",
        "    std = heart_df[column].std(skipna=True)\n",
        "    if std != 0:\n",
        "        heart_df[column] = heart_df[column].apply(lambda x: (x - mean) / std if not pd.isna(x) else x)\n",
        "\n",
        "print(heart_df.head(20))\n",
        "\n"
      ]
    },
    {
      "cell_type": "markdown",
      "metadata": {
        "id": "E98vhjP2ymHV"
      },
      "source": [
        "## Problem 2.4"
      ]
    },
    {
      "cell_type": "code",
      "execution_count": 735,
      "metadata": {
        "id": "SPylR2kxymHW"
      },
      "outputs": [],
      "source": [
        "### Your code for 2.4 goes here ###\n",
        "\n",
        "# Apply one-hot encoding to the 'DEATH_EVENT' variable\n",
        "heart_final_df = pd.get_dummies(heart_df, columns=['DEATH_EVENT'], prefix='Death_Event')\n",
        "\n",
        "# Save the final pre-processed dataframe to a CSV file\n",
        "heart_final_df = heart_df.to_csv('heart_failure_dataset_processed.csv')\n"
      ]
    },
    {
      "cell_type": "markdown",
      "metadata": {
        "id": "xfPMV5BEymHW"
      },
      "source": [
        "## Problem 2.5"
      ]
    },
    {
      "cell_type": "code",
      "execution_count": 736,
      "metadata": {
        "id": "RgVpyMUmymHW"
      },
      "outputs": [],
      "source": [
        "\n",
        "heart_final_df = pd.get_dummies(heart_df, columns=['DEATH_EVENT'], prefix='Death_Event')\n",
        "\n",
        "correlation_matrix = heart_final_df.corr()\n",
        "\n",
        "# Extract correlations with 'Death_Event_1'\n",
        "death_event_corr = correlation_matrix['Death_Event_0'].drop('Death_Event_0')\n",
        "death_event_corr = correlation_matrix['Death_Event_1'].drop('Death_Event_1')\n",
        "\n",
        "# Top positive and negative correlations\n",
        "positive_corr = death_event_corr.sort_values(ascending=False).head(2)\n",
        "negative_corr = death_event_corr.sort_values().head(2)\n"
      ]
    },
    {
      "cell_type": "markdown",
      "metadata": {
        "id": "ANRm2Vxh1Cda"
      },
      "source": [
        "### (a)"
      ]
    },
    {
      "cell_type": "markdown",
      "metadata": {
        "id": "2E0LfOKm1CVp"
      },
      "source": [
        "_[Your answer for 2.5(a) goes here]_\n",
        "\n",
        "1. age\n",
        "2. creatinine_phosphokinase (CPK)"
      ]
    },
    {
      "cell_type": "markdown",
      "metadata": {
        "id": "HewpTMK61CI7"
      },
      "source": [
        "### (b)"
      ]
    },
    {
      "cell_type": "markdown",
      "metadata": {
        "id": "LRK015A91B-R"
      },
      "source": [
        "_[Your answer for 2.5(b) goes here]_\n",
        "\n",
        "1. ejection_fraction\n",
        "2. serum_sodium"
      ]
    },
    {
      "cell_type": "markdown",
      "metadata": {
        "id": "jnGzZ9gO1BoX"
      },
      "source": [
        "### (c)"
      ]
    },
    {
      "cell_type": "markdown",
      "metadata": {
        "id": "zXc0HGwg1BlY"
      },
      "source": [
        "_[Your answer for 2.5(c) goes here]_\n",
        "\n",
        "Creatinine Phosphokinase (CPK): CPK is an enzyme found primarily in the heart, brain, and skeletal muscles. Elevated levels indicate muscle damage.Patients with higher CPK levels are likely experiencing more severe cardiac dysfunction, increasing the risk of death."
      ]
    },
    {
      "cell_type": "markdown",
      "metadata": {
        "id": "fE1TPn3s1Xq9"
      },
      "source": [
        "### (d)"
      ]
    },
    {
      "cell_type": "markdown",
      "metadata": {
        "id": "1RXjXFH81XhL"
      },
      "source": [
        "_[Your answer for 2.5(d) goes here]_\n",
        "\n",
        "Ejection fraction measures the percentage of blood leaving the heart each time it contracts. It's a key indicator of heart function. Patients with lower ejection fractions are at a higher risk of adverse outcomes, including death.\n",
        "\n",
        "Serum sodium levels indicate the concentration of sodium in the blood. Abnormal levels can reflect various health issues. Lower serum sodium levels (hyponatremia) are associated with worse prognosis in heart failure patients."
      ]
    }
  ],
  "metadata": {
    "colab": {
      "collapsed_sections": [],
      "provenance": []
    },
    "kernelspec": {
      "display_name": "base",
      "language": "python",
      "name": "python3"
    },
    "language_info": {
      "codemirror_mode": {
        "name": "ipython",
        "version": 3
      },
      "file_extension": ".py",
      "mimetype": "text/x-python",
      "name": "python",
      "nbconvert_exporter": "python",
      "pygments_lexer": "ipython3",
      "version": "3.12.4"
    }
  },
  "nbformat": 4,
  "nbformat_minor": 0
}
